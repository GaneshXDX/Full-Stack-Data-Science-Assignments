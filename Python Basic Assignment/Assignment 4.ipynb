{
 "cells": [
  {
   "cell_type": "markdown",
   "id": "eb4cea55",
   "metadata": {},
   "source": [
    "# 1. What exactly is [ ]?"
   ]
  },
  {
   "cell_type": "code",
   "execution_count": null,
   "id": "e24a0554",
   "metadata": {},
   "outputs": [],
   "source": [
    "Answer\n",
    "    This is an Empty List\n",
    "    List = []"
   ]
  },
  {
   "cell_type": "markdown",
   "id": "5b613d24",
   "metadata": {},
   "source": [
    "# 2. In a list of values stored in a variable called spam, how would you assign the value 'hello' as the third value? (Assume [2, 4, 6, 8, 10] are in spam.)"
   ]
  },
  {
   "cell_type": "code",
   "execution_count": 5,
   "id": "2850d764",
   "metadata": {},
   "outputs": [
    {
     "name": "stdout",
     "output_type": "stream",
     "text": [
      "[2, 4, 'hello', 8, 10]\n"
     ]
    }
   ],
   "source": [
    "Answer\n",
    "\n",
    "spam=[2,4,6,8,10]\n",
    "we can assign the value 'hello' as the third value by using below code\n",
    "spam[2]='hello'\n",
    "print(spam)"
   ]
  },
  {
   "cell_type": "markdown",
   "id": "253e52b1",
   "metadata": {},
   "source": [
    "# Let's pretend the spam includes the list ('a','b','c','d') for the next three queries."
   ]
  },
  {
   "cell_type": "code",
   "execution_count": 6,
   "id": "54a1e16c",
   "metadata": {},
   "outputs": [],
   "source": [
    "spam=('a','b','c','d')"
   ]
  },
  {
   "cell_type": "markdown",
   "id": "f360d40d",
   "metadata": {},
   "source": [
    "# 3. What is the value of spam[int(int('3'*2)/11)]?"
   ]
  },
  {
   "cell_type": "code",
   "execution_count": 7,
   "id": "064d4c3e",
   "metadata": {},
   "outputs": [
    {
     "data": {
      "text/plain": [
       "'d'"
      ]
     },
     "execution_count": 7,
     "metadata": {},
     "output_type": "execute_result"
    }
   ],
   "source": [
    "Answer\n",
    "\n",
    "spam[int(int('3'*2)/11)]                 #'d' is the value"
   ]
  },
  {
   "cell_type": "markdown",
   "id": "47a124a0",
   "metadata": {},
   "source": [
    "# 4. What is the value of spam[-1]?"
   ]
  },
  {
   "cell_type": "code",
   "execution_count": 8,
   "id": "b1135fdc",
   "metadata": {},
   "outputs": [
    {
     "data": {
      "text/plain": [
       "'d'"
      ]
     },
     "execution_count": 8,
     "metadata": {},
     "output_type": "execute_result"
    }
   ],
   "source": [
    "Answer\n",
    "\n",
    "spam[-1]          #'d' is the value"
   ]
  },
  {
   "cell_type": "markdown",
   "id": "82942290",
   "metadata": {},
   "source": [
    "# 5. What is the value of spam[:2]?"
   ]
  },
  {
   "cell_type": "code",
   "execution_count": 9,
   "id": "7eb86576",
   "metadata": {},
   "outputs": [
    {
     "data": {
      "text/plain": [
       "('a', 'b')"
      ]
     },
     "execution_count": 9,
     "metadata": {},
     "output_type": "execute_result"
    }
   ],
   "source": [
    "Answer\n",
    "\n",
    "spam[:2]         #('a','b') is the value"
   ]
  },
  {
   "cell_type": "markdown",
   "id": "6bd2e458",
   "metadata": {},
   "source": [
    "# Let's pretend bacon has the list [3.14,'cat','11','cat','True] for the next three questions"
   ]
  },
  {
   "cell_type": "code",
   "execution_count": 15,
   "id": "225aa644",
   "metadata": {},
   "outputs": [],
   "source": [
    "bacon=[3.14,'cat','11','cat',True]"
   ]
  },
  {
   "cell_type": "markdown",
   "id": "2f8a75bf",
   "metadata": {},
   "source": [
    "# 6. What is the value of bacon.index('cat')?"
   ]
  },
  {
   "cell_type": "code",
   "execution_count": 12,
   "id": "4d072ca6",
   "metadata": {},
   "outputs": [
    {
     "data": {
      "text/plain": [
       "1"
      ]
     },
     "execution_count": 12,
     "metadata": {},
     "output_type": "execute_result"
    }
   ],
   "source": [
    "Answer\n",
    "\n",
    "bacon.index('cat')     #index value of 'cat' is 1"
   ]
  },
  {
   "cell_type": "markdown",
   "id": "0e3b1bca",
   "metadata": {},
   "source": [
    "# 7. How does bacon.append(99) change the look of the list value in bacon?"
   ]
  },
  {
   "cell_type": "code",
   "execution_count": 17,
   "id": "134aabbb",
   "metadata": {},
   "outputs": [
    {
     "name": "stdout",
     "output_type": "stream",
     "text": [
      "[3.14, 'cat', '11', 'cat', True, 99]\n"
     ]
    }
   ],
   "source": [
    "Answer\n",
    "    #The append () method takes a single item and adds it to the end of the list\n",
    "bacon.append(99)     \n",
    "print(bacon)"
   ]
  },
  {
   "cell_type": "markdown",
   "id": "7d355a5a",
   "metadata": {},
   "source": [
    "# 8. How does bacon.remove('cat') change the look of the list in bacon?"
   ]
  },
  {
   "cell_type": "code",
   "execution_count": 18,
   "id": "5132a64d",
   "metadata": {},
   "outputs": [
    {
     "name": "stdout",
     "output_type": "stream",
     "text": [
      "[3.14, '11', 'cat', True, 99]\n"
     ]
    }
   ],
   "source": [
    "Answer\n",
    "    # remove method will remove item from list\n",
    "bacon.remove('cat')\n",
    "print(bacon)"
   ]
  },
  {
   "cell_type": "markdown",
   "id": "64d22cf2",
   "metadata": {},
   "source": [
    "# 9. What are the list concatenation and list replication operators?"
   ]
  },
  {
   "cell_type": "code",
   "execution_count": 20,
   "id": "cdd5d89a",
   "metadata": {},
   "outputs": [],
   "source": [
    "Answer\n",
    "    The List Concatenation operator is -> + (addition)\n",
    "    The List Replication operator is -> * (multiplication)\n",
    "Example\n",
    "a=[5,6,7,8,9]\n",
    "b=[10,11,12,13]"
   ]
  },
  {
   "cell_type": "code",
   "execution_count": 22,
   "id": "29ef941a",
   "metadata": {},
   "outputs": [
    {
     "name": "stdout",
     "output_type": "stream",
     "text": [
      "[5, 6, 7, 8, 9, 10, 11, 12, 13]\n"
     ]
    }
   ],
   "source": [
    "#List Concatenation operator\n",
    "list1 = a + b\n",
    "print(list1)"
   ]
  },
  {
   "cell_type": "code",
   "execution_count": 26,
   "id": "686a3eb7",
   "metadata": {},
   "outputs": [
    {
     "name": "stdout",
     "output_type": "stream",
     "text": [
      "[5, 6, 7, 8, 9, 5, 6, 7, 8, 9, 5, 6, 7, 8, 9, 5, 6, 7, 8, 9]\n"
     ]
    }
   ],
   "source": [
    "#List Replication operator\n",
    "list2 = (a * 4)\n",
    "print(list2)"
   ]
  },
  {
   "cell_type": "markdown",
   "id": "32c430f8",
   "metadata": {},
   "source": [
    "# 10. What is difference between the list methods append() and insert()?"
   ]
  },
  {
   "cell_type": "code",
   "execution_count": null,
   "id": "b861a5fb",
   "metadata": {},
   "outputs": [],
   "source": [
    "Answer\n",
    "    The append () method takes a single item and adds it to the end of the list\n",
    "    The insert () method inserts a given element at a given index in a list. "
   ]
  },
  {
   "cell_type": "markdown",
   "id": "4379f726",
   "metadata": {},
   "source": [
    "# 11. What are the two methods for removing items from a list?"
   ]
  },
  {
   "cell_type": "code",
   "execution_count": null,
   "id": "e357f1ed",
   "metadata": {},
   "outputs": [],
   "source": [
    "Answer\n",
    "    There are three methods for removing items from list\n",
    "\n",
    "1) remove() method\n",
    " It helps to remove the given very first element matching from the list\n",
    "Syntax\n",
    "    list.remove(element)\n",
    "\n",
    "2) pop() method\n",
    " The pop() method removes an element from the list based on the index given\n",
    "Syntax\n",
    "    list.pop(index)\n",
    "\n",
    "3) clear() method\n",
    " The clear() method will remove all the elements present in the list.\n",
    "Syntax\n",
    "    list.clear()"
   ]
  },
  {
   "cell_type": "markdown",
   "id": "d83e82c5",
   "metadata": {},
   "source": [
    "# 12. Describe how list values and string values are identical."
   ]
  },
  {
   "cell_type": "code",
   "execution_count": null,
   "id": "dbdc4fce",
   "metadata": {},
   "outputs": [],
   "source": [
    "Answer\n",
    "    1. Both lists and strings can be passed to len()\n",
    "    2. Have indexes and slices\n",
    "    3. Can be used in for loops\n",
    "    4. Can be concatenated or replicated"
   ]
  },
  {
   "cell_type": "markdown",
   "id": "cc4bb1ce",
   "metadata": {},
   "source": [
    "# 13. What's the difference between tuples and lists?"
   ]
  },
  {
   "cell_type": "code",
   "execution_count": null,
   "id": "f3b8403b",
   "metadata": {},
   "outputs": [],
   "source": [
    "Answer\n",
    "    \n",
    "    Lists ->\n",
    "1. Lists are mutable\n",
    "2. In list we can add, remove & change values\n",
    "3. Lists Values are stored in square brackets -> ['list']\n",
    "    \n",
    "    Tuples ->\n",
    "1. Tuples are immutable\n",
    "2. Tuple values cannot be changed at all\n",
    "3. Tuple values are stored in parentheses -> ('Tuple')"
   ]
  },
  {
   "cell_type": "markdown",
   "id": "75575767",
   "metadata": {},
   "source": [
    "# 14. How do you type a tuple value that only contains the integer 42?"
   ]
  },
  {
   "cell_type": "code",
   "execution_count": 27,
   "id": "60a7aa39",
   "metadata": {},
   "outputs": [
    {
     "name": "stdout",
     "output_type": "stream",
     "text": [
      "42\n"
     ]
    }
   ],
   "source": [
    "Answer\n",
    "\n",
    "tuple = (42)\n",
    "print(tuple)"
   ]
  },
  {
   "cell_type": "markdown",
   "id": "c501961d",
   "metadata": {},
   "source": [
    "# 15. How do you get a list value's tuple form? How do you get a tuple value's list form?"
   ]
  },
  {
   "cell_type": "code",
   "execution_count": 1,
   "id": "e8057ae3",
   "metadata": {},
   "outputs": [
    {
     "name": "stdout",
     "output_type": "stream",
     "text": [
      "(1, 2, 3, 4, 5)\n"
     ]
    }
   ],
   "source": [
    "Answer\n",
    "    By using tuple() we can change datatype of list\n",
    "list = [1,2,3,4,5]\n",
    "t = tuple(list)\n",
    "print(t)"
   ]
  },
  {
   "cell_type": "code",
   "execution_count": 1,
   "id": "b24cd8ff",
   "metadata": {},
   "outputs": [
    {
     "name": "stdout",
     "output_type": "stream",
     "text": [
      "[6, 7, 8, 9, 10]\n"
     ]
    }
   ],
   "source": [
    "    By using list() we can change datatype of tuple\n",
    "tuple = (6,7,8,9,10)\n",
    "l = list(tuple)\n",
    "print(l)"
   ]
  },
  {
   "cell_type": "markdown",
   "id": "f8d85809",
   "metadata": {},
   "source": [
    "# 16. Variables that \"contain\" list values are not necessarily lists themselves. Instead, what do they contain?"
   ]
  },
  {
   "cell_type": "code",
   "execution_count": null,
   "id": "dd9cc114",
   "metadata": {},
   "outputs": [],
   "source": [
    "Answer\n",
    "    They contain references to list values"
   ]
  },
  {
   "cell_type": "markdown",
   "id": "a5a83fd0",
   "metadata": {},
   "source": [
    "# 17. How do you distinguish between copy.copy() and copy.deepcopy()?"
   ]
  },
  {
   "cell_type": "code",
   "execution_count": null,
   "id": "89deb0c2",
   "metadata": {},
   "outputs": [],
   "source": [
    "Answer\n",
    "    copy.copy() -> It will do a shallow copy of list\n",
    "    \n",
    "    copy.deepcopy() -> It will do a deep copy of a list\n",
    "    only this function will dublicate any lits inside the list"
   ]
  }
 ],
 "metadata": {
  "kernelspec": {
   "display_name": "Python 3 (ipykernel)",
   "language": "python",
   "name": "python3"
  },
  "language_info": {
   "codemirror_mode": {
    "name": "ipython",
    "version": 3
   },
   "file_extension": ".py",
   "mimetype": "text/x-python",
   "name": "python",
   "nbconvert_exporter": "python",
   "pygments_lexer": "ipython3",
   "version": "3.9.7"
  }
 },
 "nbformat": 4,
 "nbformat_minor": 5
}
