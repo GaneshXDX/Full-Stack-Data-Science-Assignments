{
 "cells": [
  {
   "cell_type": "markdown",
   "id": "ba1443b6",
   "metadata": {},
   "source": [
    "# 1. Why are functions advantageous to have in your programs?"
   ]
  },
  {
   "cell_type": "code",
   "execution_count": null,
   "id": "99ecaad5",
   "metadata": {},
   "outputs": [],
   "source": [
    "Answer\n",
    "    1) Functions can be reused by the programmer in a given program any number of times\n",
    "    2) Functions can be easily updated & easy to read,write\n",
    "    3) Using Functions can save our time while coding on big projects it's like automating your code in form of function"
   ]
  },
  {
   "cell_type": "markdown",
   "id": "219992c1",
   "metadata": {},
   "source": [
    "# 2. When does the code in a function run: when it's specified or when it's called?"
   ]
  },
  {
   "cell_type": "code",
   "execution_count": null,
   "id": "33a4dae9",
   "metadata": {},
   "outputs": [],
   "source": [
    "Answer \n",
    "    The code in a function run when we use \"Function Call\"\n",
    "    whenever we want to call a function, we put the name of the function followed by parenthesis\n",
    "    functionname() -> This is called Function Call"
   ]
  },
  {
   "cell_type": "markdown",
   "id": "efd98030",
   "metadata": {},
   "source": [
    "# 3. What statement creates a function?"
   ]
  },
  {
   "cell_type": "code",
   "execution_count": null,
   "id": "ff4e1fdc",
   "metadata": {},
   "outputs": [],
   "source": [
    "Answer\n",
    "    def statement create a function\n",
    "Example\n",
    "    def function():\n",
    "        print(\"Hello World\")"
   ]
  },
  {
   "cell_type": "markdown",
   "id": "1d81f473",
   "metadata": {},
   "source": [
    "# 4. What is the difference between a function and a function call?"
   ]
  },
  {
   "cell_type": "code",
   "execution_count": null,
   "id": "ae8322dd",
   "metadata": {},
   "outputs": [],
   "source": [
    "Answer\n",
    "    \n",
    "Function -> A function is a group of statements performing a specific task\n",
    "    Syntax:- \n",
    "        def Test():\n",
    "            print(\"Hello Bro\")\n",
    "\n",
    "Function Call -> whenever we want to call a function, we put the name of the function followed by parenthesis \n",
    "    Syntax:-\n",
    "        test1() -> This is called Function Call"
   ]
  },
  {
   "cell_type": "markdown",
   "id": "becf171e",
   "metadata": {},
   "source": [
    "# 5. How many global scopes are there in a Python program? How many local scopes?"
   ]
  },
  {
   "cell_type": "code",
   "execution_count": null,
   "id": "50896194",
   "metadata": {},
   "outputs": [],
   "source": [
    "Answer\n",
    "    In Python, there is one global scope for every program we run global scope exits until you terminate the program.\n",
    "    Local Scope reside inside the global scope, and you can create as many as local scopes in the global scope."
   ]
  },
  {
   "cell_type": "markdown",
   "id": "b4bae71b",
   "metadata": {},
   "source": [
    "# 6. What happens to variables in a local scope when the function call returns?"
   ]
  },
  {
   "cell_type": "code",
   "execution_count": null,
   "id": "b683544f",
   "metadata": {},
   "outputs": [],
   "source": [
    "Answer\n",
    "    When a function returns, the local scope is destroyed and all the variables in it are forgotten"
   ]
  },
  {
   "cell_type": "markdown",
   "id": "17599d1f",
   "metadata": {},
   "source": [
    "# 7. What is the concept of a return value? Is it possible to have a return value in an expression?"
   ]
  },
  {
   "cell_type": "code",
   "execution_count": null,
   "id": "ef019470",
   "metadata": {},
   "outputs": [],
   "source": [
    "Answer\n",
    "    A return Statement is used to end the execution of the function call and \"returns\" the result to the caller.\n",
    "    Yes it is possible to return value in an expression, if the return statement is without expression, then the special value None is returned"
   ]
  },
  {
   "cell_type": "markdown",
   "id": "fd2fca42",
   "metadata": {},
   "source": [
    "# 8. If a function does not have a return statement, what is the return value of a call to that function?"
   ]
  },
  {
   "cell_type": "code",
   "execution_count": null,
   "id": "6f9408c9",
   "metadata": {},
   "outputs": [],
   "source": [
    "Answer\n",
    "    If a function does not have a return statement then the special value None is returned"
   ]
  },
  {
   "cell_type": "markdown",
   "id": "74603c10",
   "metadata": {},
   "source": [
    "# 9. How do you make a function variable refer to the global variable?"
   ]
  },
  {
   "cell_type": "code",
   "execution_count": null,
   "id": "515aeb08",
   "metadata": {},
   "outputs": [],
   "source": [
    "Answer\n",
    "    A Global statement will force a variable in a function to refer to the global variable."
   ]
  },
  {
   "cell_type": "markdown",
   "id": "78a6ff33",
   "metadata": {},
   "source": [
    "# 10. What is the data type of None?"
   ]
  },
  {
   "cell_type": "code",
   "execution_count": null,
   "id": "b2fb7ec0",
   "metadata": {},
   "outputs": [],
   "source": [
    "Answer\n",
    "    Data type of None is NoneType"
   ]
  },
  {
   "cell_type": "markdown",
   "id": "da389f86",
   "metadata": {},
   "source": [
    "# 11. What does the sentence import areallyourpetsnamederic do?"
   ]
  },
  {
   "cell_type": "code",
   "execution_count": null,
   "id": "34ba4160",
   "metadata": {},
   "outputs": [],
   "source": [
    "Answer\n",
    "    Here import is import statement\n",
    "    areallyourpetsnamederic is module name\n",
    "        The import statement will import a module name areallyourpetsnamederic "
   ]
  },
  {
   "cell_type": "markdown",
   "id": "50e3d671",
   "metadata": {},
   "source": [
    "# 12. If you had a bacon() feature in a spam module, what would you call it after importing spam?"
   ]
  },
  {
   "cell_type": "code",
   "execution_count": null,
   "id": "b4aa9c6f",
   "metadata": {},
   "outputs": [],
   "source": [
    "Answer\n",
    "    here bacon() is a feature in spam module\n",
    "    spam is module name\n",
    "    we will call spam.bacon() after importing spam"
   ]
  },
  {
   "cell_type": "markdown",
   "id": "b58524c3",
   "metadata": {},
   "source": [
    "# 13. What can you do to save a programme from crashing if it encounters an error?"
   ]
  },
  {
   "cell_type": "code",
   "execution_count": null,
   "id": "74d1e637",
   "metadata": {},
   "outputs": [],
   "source": [
    "Answer\n",
    "    we can place the line of code that might cause an error in try clause it will handle the program by crashing"
   ]
  },
  {
   "cell_type": "markdown",
   "id": "58e2036e",
   "metadata": {},
   "source": [
    "# 14. What is the purpose of the try clause? What is the purpose of the except clause?"
   ]
  },
  {
   "cell_type": "code",
   "execution_count": null,
   "id": "833e09fe",
   "metadata": {},
   "outputs": [],
   "source": [
    "Answer\n",
    "    The purpose of the try clause & except clause is to handle exceptions(errors)\n",
    "    \n",
    "    try clause -> the code with exception(error) to catch if an exception is raised,it jumps straight into the except block.\n",
    "    \n",
    "    except clause -> this code is only executed if an exception occured in the try block. the except block is required with a try block, even if it contains only pass statement."
   ]
  }
 ],
 "metadata": {
  "kernelspec": {
   "display_name": "Python 3 (ipykernel)",
   "language": "python",
   "name": "python3"
  },
  "language_info": {
   "codemirror_mode": {
    "name": "ipython",
    "version": 3
   },
   "file_extension": ".py",
   "mimetype": "text/x-python",
   "name": "python",
   "nbconvert_exporter": "python",
   "pygments_lexer": "ipython3",
   "version": "3.9.7"
  }
 },
 "nbformat": 4,
 "nbformat_minor": 5
}
