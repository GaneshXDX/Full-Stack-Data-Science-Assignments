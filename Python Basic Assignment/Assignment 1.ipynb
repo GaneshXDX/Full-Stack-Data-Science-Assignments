{
 "cells": [
  {
   "cell_type": "markdown",
   "id": "daf75349",
   "metadata": {},
   "source": [
    "# 1. In the below elements which of them are values or an expression? eg:- values can be integer or string and expressions will be mathematical operators. *, 'hello', -87.8, - /, +, 6"
   ]
  },
  {
   "cell_type": "markdown",
   "id": "928fdc49",
   "metadata": {},
   "source": [
    "Answer\n",
    "* (It is Multiplication Operator)\n",
    "'hello' (It is a String value)\n",
    "-87.8 (It is a Float value)\n",
    "- (It is a Substraction Operator)\n",
    "/ (It is a Division Operator)\n",
    "+ (This is a Addition Operator)\n",
    "8 (This is a Integer value)"
   ]
  },
  {
   "cell_type": "markdown",
   "id": "a3282b4d",
   "metadata": {},
   "source": [
    "# 2. What is the difference between string and variable?\n"
   ]
  },
  {
   "cell_type": "markdown",
   "id": "6d31e6a4",
   "metadata": {},
   "source": [
    "Answer\n",
    "String -> It is a data type in python. string is a sequence of characters enclosed in quotes.\n",
    "          we can primarily,write a string in these three ways\n",
    "        \n",
    "        1) Single quoted string -> a='Ganesh'\n",
    "        \n",
    "        2) Double quoted string -> b=\"Ganesh\"       \n",
    "        \n",
    "        3) Triple quoted string -> c='''Ganesh'''\n",
    "        \n",
    "Variables -> It is the name given to a memory location in a program \n",
    "Example -> \n",
    "a=30\n",
    "b=\"Harry\"\n",
    "c=71.33"
   ]
  },
  {
   "cell_type": "markdown",
   "id": "8a5c2aeb",
   "metadata": {},
   "source": [
    "# 3. Describe three different data types.\n"
   ]
  },
  {
   "cell_type": "markdown",
   "id": "32a974cb",
   "metadata": {},
   "source": [
    "Answer\n",
    "    Integers -> It contains Int value example -> 56\n",
    "    \n",
    "    Floating point Numbers -> It contains float value example-> 65.76\n",
    "    \n",
    "    Strings -> It contains string value example -> \"Ganesh\"\n",
    "    \n",
    "    Booleans -> It contains Boolean value example -> True , False\n",
    "    \n",
    "    None"
   ]
  },
  {
   "cell_type": "markdown",
   "id": "854da5b9",
   "metadata": {},
   "source": [
    "# 4. What is an expression made up of? What do all expressions do?\n"
   ]
  },
  {
   "cell_type": "markdown",
   "id": "283fdcc4",
   "metadata": {},
   "source": [
    "Answer\n",
    "An expression simply represents some entity like an integer, a string, or any instance of a class.\n",
    "An expression may also contain some operations between entities. For example.\n",
    "If \"hello\" is an expression, then (\"hello\" + \" world\") is also an expression.\n",
    "An Expression is made up of 3 components:\n",
    "1. Operators\n",
    "2. Literals\n",
    "3. Identifiers"
   ]
  },
  {
   "cell_type": "markdown",
   "id": "37662d23",
   "metadata": {},
   "source": [
    "# 5. This assignment statements, like spam = 10. What is the difference between an expression and a statement?"
   ]
  },
  {
   "cell_type": "markdown",
   "id": "2a5c11fc",
   "metadata": {},
   "source": [
    "Answers\n",
    "Expression -> an expression is any legal combination of symbols (like a variable, constants, and operators) representing a value. An expression must have at least one operand (variable or constant) and have one or more operators\n",
    "example -> x+y*z-8 where +,*,- are operators, x,y and z are variables and 8 is constant\n",
    "\n",
    "Statements -> A statement is an instruction that a Python interpreter can execute. So, in simple words, we can say anything written in Python is a statement.\n",
    "Example ->   spam = 10 is an assignment statement. where spam is a variable name and 10 is its value. There are other kinds of statements such as if statement, for statement, while statement, etc"
   ]
  },
  {
   "cell_type": "markdown",
   "id": "6a95fd95",
   "metadata": {},
   "source": [
    "# 6. After running the following code, what does the variable bacon contain? \n",
    "bacon = 22\n",
    "bacon + 1"
   ]
  },
  {
   "cell_type": "code",
   "execution_count": 6,
   "id": "d71adb1b",
   "metadata": {},
   "outputs": [
    {
     "data": {
      "text/plain": [
       "23"
      ]
     },
     "execution_count": 6,
     "metadata": {},
     "output_type": "execute_result"
    }
   ],
   "source": [
    "#Answer\n",
    "bacon = 22\n",
    "bacon + 1  \n",
    "                            #bacon contains variable 23"
   ]
  },
  {
   "cell_type": "markdown",
   "id": "28e846e2",
   "metadata": {},
   "source": [
    "# 7. What should the values of the following two terms be? \n",
    "'spam'+'spamspam' \n",
    "\n",
    "'spam'*2"
   ]
  },
  {
   "cell_type": "code",
   "execution_count": 10,
   "id": "47443fea",
   "metadata": {},
   "outputs": [
    {
     "data": {
      "text/plain": [
       "'spamspamspam'"
      ]
     },
     "execution_count": 10,
     "metadata": {},
     "output_type": "execute_result"
    }
   ],
   "source": [
    "'spam'+'spamspam'\n",
    "#value of this statement is 'spamspamspam'"
   ]
  },
  {
   "cell_type": "code",
   "execution_count": 9,
   "id": "25b12057",
   "metadata": {},
   "outputs": [
    {
     "data": {
      "text/plain": [
       "'spamspam'"
      ]
     },
     "execution_count": 9,
     "metadata": {},
     "output_type": "execute_result"
    }
   ],
   "source": [
    "'spam'*2\n",
    "#value of this statement is 'spamspam'"
   ]
  },
  {
   "cell_type": "markdown",
   "id": "c7ee80d5",
   "metadata": {},
   "source": [
    "# 8. Why is eggs a valid variable name while 100 is invalid?"
   ]
  },
  {
   "cell_type": "markdown",
   "id": "2c929a68",
   "metadata": {},
   "source": [
    "Answer\n",
    "\n",
    "Eggs satisfies all the rules of being an identifier, thus it is fit to be a variable name, while\n",
    "     100 is an integer object, and a variable name can't be a numerical value or start with a numerical value.\n",
    "    Thus, egg is a true variable name and 100 is invalid"
   ]
  },
  {
   "cell_type": "markdown",
   "id": "04f81374",
   "metadata": {},
   "source": [
    "# 9. What three functions can be used to get the integer, floating-point number, or string version of a value?"
   ]
  },
  {
   "cell_type": "code",
   "execution_count": null,
   "id": "91b66ba4",
   "metadata": {},
   "outputs": [],
   "source": [
    "Answer\n",
    "To get value of Integer we can use -> int function\n",
    "To get value of floating point number we can use -> float function\n",
    "To get value of string we can use -> str function"
   ]
  },
  {
   "cell_type": "markdown",
   "id": "4230347e",
   "metadata": {},
   "source": [
    "# 10. Why does this expression cause an error? How can you fix it?\n",
    "'I have eaten' + 99 + 'burritos'"
   ]
  },
  {
   "cell_type": "code",
   "execution_count": null,
   "id": "521781d4",
   "metadata": {},
   "outputs": [],
   "source": [
    "#Answer\n",
    "'I have eaton' + 99 + 'burritos'\n",
    "TypeError: can only concatenate str (not \"int\") to str"
   ]
  },
  {
   "cell_type": "code",
   "execution_count": 12,
   "id": "89f6ca07",
   "metadata": {},
   "outputs": [
    {
     "data": {
      "text/plain": [
       "'I have eaten99burritos.'"
      ]
     },
     "execution_count": 12,
     "metadata": {},
     "output_type": "execute_result"
    }
   ],
   "source": [
    "#Rectified expression ->  \n",
    "'I have eaten' + '99' + 'burritos.'"
   ]
  }
 ],
 "metadata": {
  "kernelspec": {
   "display_name": "Python 3 (ipykernel)",
   "language": "python",
   "name": "python3"
  },
  "language_info": {
   "codemirror_mode": {
    "name": "ipython",
    "version": 3
   },
   "file_extension": ".py",
   "mimetype": "text/x-python",
   "name": "python",
   "nbconvert_exporter": "python",
   "pygments_lexer": "ipython3",
   "version": "3.9.7"
  }
 },
 "nbformat": 4,
 "nbformat_minor": 5
}
