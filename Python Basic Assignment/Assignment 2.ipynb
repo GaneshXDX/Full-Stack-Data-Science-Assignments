{
 "cells": [
  {
   "cell_type": "markdown",
   "id": "486988f1",
   "metadata": {},
   "source": [
    "# 1. What are the two values of the Boolean data type? How do you write them?"
   ]
  },
  {
   "cell_type": "code",
   "execution_count": null,
   "id": "860ff6c8",
   "metadata": {},
   "outputs": [],
   "source": [
    "Answer\n",
    "    Their are 2 values of Booleans Data types\n",
    "    1) True\n",
    "    2) False\n",
    "    Boolean data type can be written as True & False\n",
    "    and also we can assing them by variables \n",
    "    Example-> a=True\n",
    "              b=False"
   ]
  },
  {
   "cell_type": "markdown",
   "id": "de624d85",
   "metadata": {},
   "source": [
    "# 2. What are the three different types of Boolean operators?"
   ]
  },
  {
   "cell_type": "code",
   "execution_count": null,
   "id": "d0c48b23",
   "metadata": {},
   "outputs": [],
   "source": [
    "Answer\n",
    "    There are 3 types of Boolean operators in Python\n",
    "    1) AND operator (&& or \"and\")\n",
    "    2) OR operator (|| or \"or\")\n",
    "    3) NOT operator (not)"
   ]
  },
  {
   "cell_type": "markdown",
   "id": "25062c25",
   "metadata": {},
   "source": [
    "# 3. Make a list of each Boolean operator's truth tables (i.e. every possible combination of Boolean values for the operator and what it evaluate )."
   ]
  },
  {
   "cell_type": "code",
   "execution_count": null,
   "id": "e45beac1",
   "metadata": {},
   "outputs": [],
   "source": [
    "Answer\n",
    "    AND Boolean Operator\n",
    "        True and True = True\n",
    "        True and False = False\n",
    "        False and True = False\n",
    "        False and False = False\n",
    "    OR Boolean Operator\n",
    "        True or True = True\n",
    "        True or False = True\n",
    "        False or True = True\n",
    "        False or False = False\n",
    "    NOT Boolean Operator\n",
    "        not(True)=False\n",
    "        not(False)=True"
   ]
  },
  {
   "cell_type": "markdown",
   "id": "42115ea0",
   "metadata": {},
   "source": [
    "# 5. What are the six comparison operators?"
   ]
  },
  {
   "cell_type": "code",
   "execution_count": null,
   "id": "f5cda830",
   "metadata": {},
   "outputs": [],
   "source": [
    "Answer\n",
    "    Comparison operators are used to comparing the values it return True or False according to the conditions.\n",
    "        There are Six Comparison operators\n",
    "    1) < (less than)\n",
    "    2) > (Greater than)\n",
    "    3) == (Equal to)\n",
    "    4) != (Not equal to)\n",
    "    5) >= (Greater than or equal to)\n",
    "    6) <= (Smaller than or equal to)"
   ]
  },
  {
   "cell_type": "markdown",
   "id": "0d58e17c",
   "metadata": {},
   "source": [
    "# 6. How do you tell the difference between the equal to and assignment operators?Describe a condition and when you would use one."
   ]
  },
  {
   "cell_type": "code",
   "execution_count": null,
   "id": "10799a0d",
   "metadata": {},
   "outputs": [],
   "source": [
    "Answer\n",
    "    ==(Equal to) is a Comparison operator used to compare wheater 2 values are Equal to\n",
    "    example -> a==10 \n",
    "    =(Equal) is a Assignment operator used to assign a value to the variable\n",
    "    example -> a=\"ganesh\"\n",
    "Describe a condition and when you would use one.\n",
    "  Equal to Operator (==) Comparison Operator\n",
    "   ex-> \"ganesh\"==\"ganesh\" it will return True \n",
    "        \"ganesh\"==\"code\" it will return False\n",
    "  Equal (=) Assignment operator\n",
    "   ex-> a=\"ganesh\" it will assign string \"ganesh\" to a variable name a"
   ]
  },
  {
   "cell_type": "markdown",
   "id": "26cc98b8",
   "metadata": {},
   "source": [
    "# 7. Identify the three blocks in this code:"
   ]
  },
  {
   "cell_type": "code",
   "execution_count": null,
   "id": "de49abe1",
   "metadata": {},
   "outputs": [],
   "source": [
    "spam = 0\n",
    "if spam == 10:\n",
    "    print('eggs')\n",
    "if spam > 5:\n",
    "    print('bacon')\n",
    "else:\n",
    "    print('ham')\n",
    "   print('spam')\n",
    "   print('spam')"
   ]
  },
  {
   "cell_type": "code",
   "execution_count": null,
   "id": "e72c0aa9",
   "metadata": {},
   "outputs": [],
   "source": [
    "Answer\n",
    "    The Three Block in this code is everything inside if statement and else statement"
   ]
  },
  {
   "cell_type": "markdown",
   "id": "016e3d73",
   "metadata": {},
   "source": [
    "# 8. Write code that prints Hello if 1 is stored in spam, prints Howdy if 2 is stored in spam, and prints Greetings! if anything else is stored in spam."
   ]
  },
  {
   "cell_type": "code",
   "execution_count": 13,
   "id": "ebf92b80",
   "metadata": {},
   "outputs": [
    {
     "name": "stdout",
     "output_type": "stream",
     "text": [
      "Enter Number\n",
      "1\n",
      "Hello\n"
     ]
    }
   ],
   "source": [
    "spam = int(input(\"Enter the Number\\n\"))\n",
    "if spam==1:\n",
    "    print(\"Hello\")\n",
    "elif spam==2:\n",
    "    print(\"Howdy\")\n",
    "else:\n",
    "    print(\"Greetings\")"
   ]
  },
  {
   "cell_type": "markdown",
   "id": "0d5e9f85",
   "metadata": {},
   "source": [
    "# 9.If your program is stuck in an endless loop, what keys you’ll press?"
   ]
  },
  {
   "cell_type": "code",
   "execution_count": null,
   "id": "5ded8794",
   "metadata": {},
   "outputs": [],
   "source": [
    "Answer\n",
    "    Press (CTRL+C) if your program is stuck in an endless loop\n",
    "    CTRL+C will interupt your Kernal to stop the program"
   ]
  },
  {
   "cell_type": "markdown",
   "id": "32c42be0",
   "metadata": {},
   "source": [
    "# 10. How can you tell the difference between break and continue?"
   ]
  },
  {
   "cell_type": "code",
   "execution_count": null,
   "id": "9191e779",
   "metadata": {},
   "outputs": [],
   "source": [
    "Answer\n",
    "    Break Statement\n",
    "        'break' is used to come out of the loop when encountered it instructs the program to -> Exit the loop now"
   ]
  },
  {
   "cell_type": "code",
   "execution_count": 16,
   "id": "18241202",
   "metadata": {},
   "outputs": [
    {
     "name": "stdout",
     "output_type": "stream",
     "text": [
      "0\n",
      "1\n",
      "2\n",
      "3\n",
      "4\n",
      "5\n",
      "6\n",
      "7\n",
      "8\n",
      "9\n",
      "10\n"
     ]
    }
   ],
   "source": [
    "#Example\n",
    "for i in range(0,50):\n",
    "    print(i)\n",
    "    if i==10:\n",
    "        break"
   ]
  },
  {
   "cell_type": "code",
   "execution_count": null,
   "id": "502b8069",
   "metadata": {},
   "outputs": [],
   "source": [
    "Continue Statement\n",
    "    'continue' is used to stop the current iteration of the loop and continue with the next one \n",
    "    It instructs the program to \"Skip the iterstion\""
   ]
  },
  {
   "cell_type": "code",
   "execution_count": 18,
   "id": "b9526a08",
   "metadata": {},
   "outputs": [
    {
     "name": "stdout",
     "output_type": "stream",
     "text": [
      "printing\n",
      "0\n",
      "printing\n",
      "1\n",
      "printing\n",
      "2\n",
      "printing\n",
      "printing\n",
      "4\n"
     ]
    }
   ],
   "source": [
    "#Example\n",
    "for i in range(5):\n",
    "    print(\"printing\")\n",
    "    if i==3:    #if i is 2 the iteration is skipped\n",
    "        continue\n",
    "    print(i)"
   ]
  },
  {
   "cell_type": "markdown",
   "id": "83b24f61",
   "metadata": {},
   "source": [
    "# 11. In a for loop, what is the difference between range(10), range(0, 10), and range(0, 10, 1)?"
   ]
  },
  {
   "cell_type": "code",
   "execution_count": null,
   "id": "bd776a7e",
   "metadata": {},
   "outputs": [],
   "source": [
    "Answer\n",
    "    1) range(10) 10=end by default start=10\n",
    "        It returns sequence of integer from 0 to 10 excluding 10\n",
    "    2) range(0,10) -> 0=start , 10=end\n",
    "        It returns the same values as range(10) which starts from 0 to 10 excluding 10  (start,end)\n",
    "    3) range(0,10,1) 0=start, 10=end, 1=step size or jump\n",
    "        It returns the same value as above expression but here we have 0 as start, 10 as end excluding 10 and\n",
    "        1 as jump/step size here jump means increase the variable by +1 on each iteration"
   ]
  },
  {
   "cell_type": "markdown",
   "id": "29e3b41c",
   "metadata": {},
   "source": [
    "# 12. Write a short program that prints the numbers 1 to 10 using a for loop. Then write an equivalent program that prints the numbers 1 to 10 using a while loop."
   ]
  },
  {
   "cell_type": "code",
   "execution_count": 28,
   "id": "ab95bba4",
   "metadata": {},
   "outputs": [
    {
     "name": "stdout",
     "output_type": "stream",
     "text": [
      "1\n",
      "2\n",
      "3\n",
      "4\n",
      "5\n",
      "6\n",
      "7\n",
      "8\n",
      "9\n",
      "10\n"
     ]
    }
   ],
   "source": [
    "#Program using For Loop\n",
    "for i in range(1,11):\n",
    "    print(i)"
   ]
  },
  {
   "cell_type": "code",
   "execution_count": 27,
   "id": "03cbf16b",
   "metadata": {},
   "outputs": [
    {
     "name": "stdout",
     "output_type": "stream",
     "text": [
      "0\n",
      "1\n",
      "2\n",
      "3\n",
      "4\n",
      "5\n",
      "6\n",
      "7\n",
      "8\n",
      "9\n",
      "10\n"
     ]
    }
   ],
   "source": [
    "#Program using While loop\n",
    "i=0\n",
    "while i<11:\n",
    "    print(i)\n",
    "    i=i+1"
   ]
  },
  {
   "cell_type": "markdown",
   "id": "0be5b3fc",
   "metadata": {},
   "source": [
    "# 13. If you had a function named bacon() inside a module named spam, how would you call it after importing spam?"
   ]
  },
  {
   "cell_type": "code",
   "execution_count": null,
   "id": "9e0a2c1f",
   "metadata": {},
   "outputs": [],
   "source": [
    "Answer\n",
    "    here spam is module and bacon() is function inside module spam\n",
    "    after importing spam call -> spam.bacon() "
   ]
  }
 ],
 "metadata": {
  "kernelspec": {
   "display_name": "Python 3 (ipykernel)",
   "language": "python",
   "name": "python3"
  },
  "language_info": {
   "codemirror_mode": {
    "name": "ipython",
    "version": 3
   },
   "file_extension": ".py",
   "mimetype": "text/x-python",
   "name": "python",
   "nbconvert_exporter": "python",
   "pygments_lexer": "ipython3",
   "version": "3.9.7"
  }
 },
 "nbformat": 4,
 "nbformat_minor": 5
}
