{
 "cells": [
  {
   "cell_type": "markdown",
   "id": "053febb8",
   "metadata": {},
   "source": [
    "# 1. Create a function in python to read the text file and replace specific content of the file."
   ]
  },
  {
   "cell_type": "markdown",
   "id": "e6259db3",
   "metadata": {},
   "source": [
    "# Read text file"
   ]
  },
  {
   "cell_type": "code",
   "execution_count": 24,
   "id": "bbcdea68",
   "metadata": {},
   "outputs": [
    {
     "name": "stdout",
     "output_type": "stream",
     "text": [
      "This is a placement assignment\n"
     ]
    }
   ],
   "source": [
    "txtfile = open(\"example.txt\",'rt')\n",
    "data = txtfile.read()\n",
    "print(data)"
   ]
  },
  {
   "cell_type": "markdown",
   "id": "6520bf7f",
   "metadata": {},
   "source": [
    "# replacing string placement with string screening"
   ]
  },
  {
   "cell_type": "code",
   "execution_count": 25,
   "id": "0c1d3ea7",
   "metadata": {},
   "outputs": [
    {
     "name": "stdout",
     "output_type": "stream",
     "text": [
      "This is a screening assignment\n"
     ]
    }
   ],
   "source": [
    "def replace_string(old,new):\n",
    "    with open('example.txt', 'r') as file :\n",
    "        filecontent = file.read()\n",
    "        filecontent = filecontent.replace(old,new)\n",
    "    with open('example.txt', 'w') as file:\n",
    "        file.write(filecontent)\n",
    "        file.close()\n",
    "        print(filecontent)\n",
    "replace_string('placement','screening')"
   ]
  },
  {
   "cell_type": "markdown",
   "id": "b737c784",
   "metadata": {},
   "source": [
    "# 2. Demonstrate use of abstract class, multiple inheritance and decorator in python using examples."
   ]
  },
  {
   "cell_type": "markdown",
   "id": "5ec74617",
   "metadata": {},
   "source": [
    "# Abstract class"
   ]
  },
  {
   "cell_type": "raw",
   "id": "ac205042",
   "metadata": {},
   "source": [
    "It allows you to create a set of methods that must be created within any child classes built from the abstract class. \n",
    "A class which contains one or more abstract methods is called an abstract class"
   ]
  },
  {
   "cell_type": "code",
   "execution_count": 29,
   "id": "ce4b06c2",
   "metadata": {},
   "outputs": [
    {
     "name": "stdout",
     "output_type": "stream",
     "text": [
      "I can walk and run\n",
      "I can crawl\n",
      "I can bark\n",
      "I can roar\n"
     ]
    }
   ],
   "source": [
    "from abc import ABC, abstractmethod\n",
    "class Animal(ABC):\n",
    "    def move(self):\n",
    "        pass\n",
    "\n",
    "class Human(Animal):\n",
    "    def move(self):\n",
    "        print(\"I can walk and run\")\n",
    "\n",
    "class Snake(Animal):\n",
    "    def move(self):\n",
    "        print(\"I can crawl\")\n",
    "\n",
    "class Dog(Animal):\n",
    "    def move(self):\n",
    "        print(\"I can bark\")\n",
    "\n",
    "class Lion(Animal):\n",
    "    def move(self):\n",
    "        print(\"I can roar\")\n",
    "        \n",
    "# Driver code\n",
    "R = Human()\n",
    "R.move()\n",
    "\n",
    "K = Snake()\n",
    "K.move()\n",
    "\n",
    "R = Dog()\n",
    "R.move()\n",
    "\n",
    "K = Lion()\n",
    "K.move()"
   ]
  },
  {
   "cell_type": "markdown",
   "id": "c9ff1408",
   "metadata": {},
   "source": [
    "# Multiple Inheritance"
   ]
  },
  {
   "cell_type": "raw",
   "id": "e703f66c",
   "metadata": {},
   "source": [
    "The ability of a class to inherit more than one class is called Multiple Inheritance."
   ]
  },
  {
   "cell_type": "code",
   "execution_count": 31,
   "id": "0a3fd434",
   "metadata": {},
   "outputs": [
    {
     "name": "stdout",
     "output_type": "stream",
     "text": [
      "In class Parent1\n",
      "In class Parent2\n"
     ]
    }
   ],
   "source": [
    "class Parent1:\n",
    "   def display1(self):\n",
    "       print(\"In class Parent1\")\n",
    "class Parent2:\n",
    "   def display2(self):\n",
    "       print(\"In class Parent2\")\n",
    "class Child(Parent1, Parent2):\n",
    "   pass\n",
    "obj = Child()\n",
    "obj.display1()\n",
    "obj.display2()"
   ]
  },
  {
   "cell_type": "markdown",
   "id": "1358868c",
   "metadata": {},
   "source": [
    "# Decorator"
   ]
  },
  {
   "cell_type": "raw",
   "id": "cbb48e93",
   "metadata": {},
   "source": [
    "Decorators are a very powerful and useful tool in Python since it allows programmers to \n",
    "modify the behaviour of function or class. "
   ]
  },
  {
   "cell_type": "code",
   "execution_count": 37,
   "id": "c491b52b",
   "metadata": {},
   "outputs": [
    {
     "name": "stdout",
     "output_type": "stream",
     "text": [
      "This is the added text to the actual function.\n",
      "This is the actual function.\n"
     ]
    }
   ],
   "source": [
    "def sampleDecorator(func):\n",
    "    def addingFunction():\n",
    "        print(\"This is the added text to the actual function.\")\n",
    "        func()\n",
    "    return addingFunction\n",
    "@sampleDecorator\n",
    "def actualFunction():\n",
    "    print(\"This is the actual function.\")\n",
    "actualFunction()"
   ]
  }
 ],
 "metadata": {
  "kernelspec": {
   "display_name": "Python 3 (ipykernel)",
   "language": "python",
   "name": "python3"
  },
  "language_info": {
   "codemirror_mode": {
    "name": "ipython",
    "version": 3
   },
   "file_extension": ".py",
   "mimetype": "text/x-python",
   "name": "python",
   "nbconvert_exporter": "python",
   "pygments_lexer": "ipython3",
   "version": "3.9.7"
  }
 },
 "nbformat": 4,
 "nbformat_minor": 5
}
