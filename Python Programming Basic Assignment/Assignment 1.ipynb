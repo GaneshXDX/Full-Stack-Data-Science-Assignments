{
 "cells": [
  {
   "cell_type": "markdown",
   "id": "8f0d0f91",
   "metadata": {},
   "source": [
    "# 1. Write a Python program to print \"Hello Python\"?"
   ]
  },
  {
   "cell_type": "code",
   "execution_count": 2,
   "id": "d2c4e063",
   "metadata": {},
   "outputs": [
    {
     "name": "stdout",
     "output_type": "stream",
     "text": [
      "Hello Python\n"
     ]
    }
   ],
   "source": [
    "print(\"Hello Python\")"
   ]
  },
  {
   "cell_type": "markdown",
   "id": "3f4f3ba7",
   "metadata": {},
   "source": [
    "# 2. Write a Python program to do arithmetical operations addition and division.?"
   ]
  },
  {
   "cell_type": "code",
   "execution_count": 6,
   "id": "44f1aa11",
   "metadata": {},
   "outputs": [
    {
     "name": "stdout",
     "output_type": "stream",
     "text": [
      "Enter Number65\n",
      "Enter Number12\n",
      "addition of a+b is 77\n",
      "division of a/b is 5.416666666666667\n"
     ]
    }
   ],
   "source": [
    "a=int(input(\"Enter Number\"))\n",
    "b=int(input(\"Enter Number\"))\n",
    "add=a+b\n",
    "div=a/b\n",
    "print(\"addition of a+b is\",add)\n",
    "print(\"division of a/b is\",div)"
   ]
  },
  {
   "cell_type": "markdown",
   "id": "11c30f31",
   "metadata": {},
   "source": [
    "# 3. Write a Python program to find the area of a triangle?"
   ]
  },
  {
   "cell_type": "code",
   "execution_count": 8,
   "id": "e8b534aa",
   "metadata": {},
   "outputs": [
    {
     "name": "stdout",
     "output_type": "stream",
     "text": [
      "Enter Base of Triangle10\n",
      "Enter Height of Triangle5\n",
      "Area of Triangle 25.0\n"
     ]
    }
   ],
   "source": [
    "base=int(input(\"Enter Base of Triangle\"))\n",
    "height=int(input(\"Enter Height of Triangle\"))\n",
    "area=(1/2)*base*height\n",
    "print(\"Area of Triangle\", area)"
   ]
  },
  {
   "cell_type": "markdown",
   "id": "883f9fd8",
   "metadata": {},
   "source": [
    "# 4. Write a Python program to swap two variables?"
   ]
  },
  {
   "cell_type": "code",
   "execution_count": 17,
   "id": "6068be51",
   "metadata": {},
   "outputs": [
    {
     "name": "stdout",
     "output_type": "stream",
     "text": [
      "Enter Number \n",
      "50\n",
      "Enter Number \n",
      "100\n",
      "a= 100\n",
      "b= 50\n"
     ]
    }
   ],
   "source": [
    "a=int(input(\"Enter Number \\n\"))\n",
    "b=int(input(\"Enter Number \\n\"))\n",
    "a,b=b,a\n",
    "print(\"a=\",a)\n",
    "print(\"b=\",b)"
   ]
  },
  {
   "cell_type": "markdown",
   "id": "73be966e",
   "metadata": {},
   "source": [
    "# 5. Write a Python program to generate a random number?"
   ]
  },
  {
   "cell_type": "code",
   "execution_count": 18,
   "id": "27f8f366",
   "metadata": {},
   "outputs": [
    {
     "name": "stdout",
     "output_type": "stream",
     "text": [
      "12\n"
     ]
    }
   ],
   "source": [
    "import random\n",
    "print(random.randint(0,100))"
   ]
  }
 ],
 "metadata": {
  "kernelspec": {
   "display_name": "Python 3 (ipykernel)",
   "language": "python",
   "name": "python3"
  },
  "language_info": {
   "codemirror_mode": {
    "name": "ipython",
    "version": 3
   },
   "file_extension": ".py",
   "mimetype": "text/x-python",
   "name": "python",
   "nbconvert_exporter": "python",
   "pygments_lexer": "ipython3",
   "version": "3.9.7"
  }
 },
 "nbformat": 4,
 "nbformat_minor": 5
}
